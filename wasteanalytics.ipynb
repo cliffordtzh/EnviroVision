{
 "cells": [
  {
   "cell_type": "code",
   "execution_count": 1,
   "metadata": {},
   "outputs": [],
   "source": [
    "import numpy as np  # np mean, np random\n",
    "import pandas as pd\n",
    "import plotly.express as px\n",
    "import plotly.graph_objects as go\n",
    "import matplotlib.pyplot as plt\n",
    "import seaborn as sns\n",
    "\n",
    "data = pd.read_csv('wastestats.csv')"
   ]
  },
  {
   "cell_type": "code",
   "execution_count": 2,
   "metadata": {},
   "outputs": [
    {
     "data": {
      "text/plain": [
       "<bound method NDFrame.describe of                             waste_type  waste_disposed_of_tonne  \\\n",
       "0                                 Food                   679900   \n",
       "1                      Paper/Cardboard                   576000   \n",
       "2                             Plastics                   762700   \n",
       "3                                  C&D                     9700   \n",
       "4                  Horticultural waste                   111500   \n",
       "..                                 ...                      ...   \n",
       "295                 Non-ferrous metal                      2000   \n",
       "296                             Glass                     52000   \n",
       "297                       Scrap tyres                      3000   \n",
       "298  Others (stones, ceramics, etc. )                    274000   \n",
       "299                              Total                  2969000   \n",
       "\n",
       "     total_waste_recycled_tonne  total_waste_generated_tonne  recycling_rate  \\\n",
       "0                        111100                       791000            0.14   \n",
       "1                        607100                      1183100            0.51   \n",
       "2                         59500                       822200            0.07   \n",
       "3                       1585700                      1595400            0.99   \n",
       "4                        209000                       320500            0.65   \n",
       "..                          ...                          ...             ...   \n",
       "295                      170000                       171000            0.99   \n",
       "296                       12000                        64000            0.19   \n",
       "297                       29000                        32000            0.90   \n",
       "298                       11000                       286000            0.04   \n",
       "299                     4790000                      7759000            0.62   \n",
       "\n",
       "     year  \n",
       "0    2016  \n",
       "1    2016  \n",
       "2    2016  \n",
       "3    2016  \n",
       "4    2016  \n",
       "..    ...  \n",
       "295  2018  \n",
       "296  2018  \n",
       "297  2018  \n",
       "298  2018  \n",
       "299  2018  \n",
       "\n",
       "[300 rows x 6 columns]>"
      ]
     },
     "execution_count": 2,
     "metadata": {},
     "output_type": "execute_result"
    }
   ],
   "source": [
    "data.describe"
   ]
  },
  {
   "cell_type": "code",
   "execution_count": 3,
   "metadata": {},
   "outputs": [
    {
     "data": {
      "text/plain": [
       "(300, 6)"
      ]
     },
     "execution_count": 3,
     "metadata": {},
     "output_type": "execute_result"
    }
   ],
   "source": [
    "data.shape"
   ]
  },
  {
   "cell_type": "code",
   "execution_count": 4,
   "metadata": {},
   "outputs": [
    {
     "data": {
      "text/plain": [
       "<bound method NDFrame.head of                             waste_type  waste_disposed_of_tonne  \\\n",
       "0                                 Food                   679900   \n",
       "1                      Paper/Cardboard                   576000   \n",
       "2                             Plastics                   762700   \n",
       "3                                  C&D                     9700   \n",
       "4                  Horticultural waste                   111500   \n",
       "..                                 ...                      ...   \n",
       "295                 Non-ferrous metal                      2000   \n",
       "296                             Glass                     52000   \n",
       "297                       Scrap tyres                      3000   \n",
       "298  Others (stones, ceramics, etc. )                    274000   \n",
       "299                              Total                  2969000   \n",
       "\n",
       "     total_waste_recycled_tonne  total_waste_generated_tonne  recycling_rate  \\\n",
       "0                        111100                       791000            0.14   \n",
       "1                        607100                      1183100            0.51   \n",
       "2                         59500                       822200            0.07   \n",
       "3                       1585700                      1595400            0.99   \n",
       "4                        209000                       320500            0.65   \n",
       "..                          ...                          ...             ...   \n",
       "295                      170000                       171000            0.99   \n",
       "296                       12000                        64000            0.19   \n",
       "297                       29000                        32000            0.90   \n",
       "298                       11000                       286000            0.04   \n",
       "299                     4790000                      7759000            0.62   \n",
       "\n",
       "     year  \n",
       "0    2016  \n",
       "1    2016  \n",
       "2    2016  \n",
       "3    2016  \n",
       "4    2016  \n",
       "..    ...  \n",
       "295  2018  \n",
       "296  2018  \n",
       "297  2018  \n",
       "298  2018  \n",
       "299  2018  \n",
       "\n",
       "[300 rows x 6 columns]>"
      ]
     },
     "execution_count": 4,
     "metadata": {},
     "output_type": "execute_result"
    }
   ],
   "source": [
    "data.head"
   ]
  },
  {
   "cell_type": "code",
   "execution_count": 5,
   "metadata": {},
   "outputs": [
    {
     "data": {
      "application/vnd.plotly.v1+json": {
       "config": {
        "plotlyServerURL": "https://plot.ly"
       },
       "data": [
        {
         "name": "Waste Generated",
         "type": "bar",
         "x": [
          2003,
          2004,
          2005,
          2006,
          2007,
          2008,
          2009,
          2010,
          2011,
          2012,
          2013,
          2014,
          2015,
          2016,
          2017,
          2018,
          2019,
          2020,
          2021,
          2022
         ],
         "y": [
          4728200,
          4789700,
          5018200,
          5220500,
          5600800,
          5970200,
          6114100,
          6517000,
          6898300,
          7269500,
          7851500,
          7514500,
          7673500,
          7814200,
          7704300,
          7759000,
          7278000,
          5880000,
          6944000,
          7385000
         ]
        },
        {
         "name": "Waste Recycled",
         "type": "bar",
         "x": [
          2003,
          2004,
          2005,
          2006,
          2007,
          2008,
          2009,
          2010,
          2011,
          2012,
          2013,
          2014,
          2015,
          2016,
          2017,
          2018,
          2019,
          2020,
          2021,
          2022
         ],
         "y": [
          2223200,
          2307100,
          2469400,
          2656900,
          3034800,
          3342600,
          3485200,
          3757500,
          4038800,
          4335600,
          4825900,
          4471100,
          4649700,
          4769000,
          4724300,
          4790000,
          4293000,
          3040000,
          3826000,
          4188000
         ]
        }
       ],
       "layout": {
        "template": {
         "data": {
          "bar": [
           {
            "error_x": {
             "color": "#2a3f5f"
            },
            "error_y": {
             "color": "#2a3f5f"
            },
            "marker": {
             "line": {
              "color": "#E5ECF6",
              "width": 0.5
             }
            },
            "type": "bar"
           }
          ],
          "barpolar": [
           {
            "marker": {
             "line": {
              "color": "#E5ECF6",
              "width": 0.5
             }
            },
            "type": "barpolar"
           }
          ],
          "carpet": [
           {
            "aaxis": {
             "endlinecolor": "#2a3f5f",
             "gridcolor": "white",
             "linecolor": "white",
             "minorgridcolor": "white",
             "startlinecolor": "#2a3f5f"
            },
            "baxis": {
             "endlinecolor": "#2a3f5f",
             "gridcolor": "white",
             "linecolor": "white",
             "minorgridcolor": "white",
             "startlinecolor": "#2a3f5f"
            },
            "type": "carpet"
           }
          ],
          "choropleth": [
           {
            "colorbar": {
             "outlinewidth": 0,
             "ticks": ""
            },
            "type": "choropleth"
           }
          ],
          "contour": [
           {
            "colorbar": {
             "outlinewidth": 0,
             "ticks": ""
            },
            "colorscale": [
             [
              0,
              "#0d0887"
             ],
             [
              0.1111111111111111,
              "#46039f"
             ],
             [
              0.2222222222222222,
              "#7201a8"
             ],
             [
              0.3333333333333333,
              "#9c179e"
             ],
             [
              0.4444444444444444,
              "#bd3786"
             ],
             [
              0.5555555555555556,
              "#d8576b"
             ],
             [
              0.6666666666666666,
              "#ed7953"
             ],
             [
              0.7777777777777778,
              "#fb9f3a"
             ],
             [
              0.8888888888888888,
              "#fdca26"
             ],
             [
              1,
              "#f0f921"
             ]
            ],
            "type": "contour"
           }
          ],
          "contourcarpet": [
           {
            "colorbar": {
             "outlinewidth": 0,
             "ticks": ""
            },
            "type": "contourcarpet"
           }
          ],
          "heatmap": [
           {
            "colorbar": {
             "outlinewidth": 0,
             "ticks": ""
            },
            "colorscale": [
             [
              0,
              "#0d0887"
             ],
             [
              0.1111111111111111,
              "#46039f"
             ],
             [
              0.2222222222222222,
              "#7201a8"
             ],
             [
              0.3333333333333333,
              "#9c179e"
             ],
             [
              0.4444444444444444,
              "#bd3786"
             ],
             [
              0.5555555555555556,
              "#d8576b"
             ],
             [
              0.6666666666666666,
              "#ed7953"
             ],
             [
              0.7777777777777778,
              "#fb9f3a"
             ],
             [
              0.8888888888888888,
              "#fdca26"
             ],
             [
              1,
              "#f0f921"
             ]
            ],
            "type": "heatmap"
           }
          ],
          "heatmapgl": [
           {
            "colorbar": {
             "outlinewidth": 0,
             "ticks": ""
            },
            "colorscale": [
             [
              0,
              "#0d0887"
             ],
             [
              0.1111111111111111,
              "#46039f"
             ],
             [
              0.2222222222222222,
              "#7201a8"
             ],
             [
              0.3333333333333333,
              "#9c179e"
             ],
             [
              0.4444444444444444,
              "#bd3786"
             ],
             [
              0.5555555555555556,
              "#d8576b"
             ],
             [
              0.6666666666666666,
              "#ed7953"
             ],
             [
              0.7777777777777778,
              "#fb9f3a"
             ],
             [
              0.8888888888888888,
              "#fdca26"
             ],
             [
              1,
              "#f0f921"
             ]
            ],
            "type": "heatmapgl"
           }
          ],
          "histogram": [
           {
            "marker": {
             "colorbar": {
              "outlinewidth": 0,
              "ticks": ""
             }
            },
            "type": "histogram"
           }
          ],
          "histogram2d": [
           {
            "colorbar": {
             "outlinewidth": 0,
             "ticks": ""
            },
            "colorscale": [
             [
              0,
              "#0d0887"
             ],
             [
              0.1111111111111111,
              "#46039f"
             ],
             [
              0.2222222222222222,
              "#7201a8"
             ],
             [
              0.3333333333333333,
              "#9c179e"
             ],
             [
              0.4444444444444444,
              "#bd3786"
             ],
             [
              0.5555555555555556,
              "#d8576b"
             ],
             [
              0.6666666666666666,
              "#ed7953"
             ],
             [
              0.7777777777777778,
              "#fb9f3a"
             ],
             [
              0.8888888888888888,
              "#fdca26"
             ],
             [
              1,
              "#f0f921"
             ]
            ],
            "type": "histogram2d"
           }
          ],
          "histogram2dcontour": [
           {
            "colorbar": {
             "outlinewidth": 0,
             "ticks": ""
            },
            "colorscale": [
             [
              0,
              "#0d0887"
             ],
             [
              0.1111111111111111,
              "#46039f"
             ],
             [
              0.2222222222222222,
              "#7201a8"
             ],
             [
              0.3333333333333333,
              "#9c179e"
             ],
             [
              0.4444444444444444,
              "#bd3786"
             ],
             [
              0.5555555555555556,
              "#d8576b"
             ],
             [
              0.6666666666666666,
              "#ed7953"
             ],
             [
              0.7777777777777778,
              "#fb9f3a"
             ],
             [
              0.8888888888888888,
              "#fdca26"
             ],
             [
              1,
              "#f0f921"
             ]
            ],
            "type": "histogram2dcontour"
           }
          ],
          "mesh3d": [
           {
            "colorbar": {
             "outlinewidth": 0,
             "ticks": ""
            },
            "type": "mesh3d"
           }
          ],
          "parcoords": [
           {
            "line": {
             "colorbar": {
              "outlinewidth": 0,
              "ticks": ""
             }
            },
            "type": "parcoords"
           }
          ],
          "pie": [
           {
            "automargin": true,
            "type": "pie"
           }
          ],
          "scatter": [
           {
            "marker": {
             "colorbar": {
              "outlinewidth": 0,
              "ticks": ""
             }
            },
            "type": "scatter"
           }
          ],
          "scatter3d": [
           {
            "line": {
             "colorbar": {
              "outlinewidth": 0,
              "ticks": ""
             }
            },
            "marker": {
             "colorbar": {
              "outlinewidth": 0,
              "ticks": ""
             }
            },
            "type": "scatter3d"
           }
          ],
          "scattercarpet": [
           {
            "marker": {
             "colorbar": {
              "outlinewidth": 0,
              "ticks": ""
             }
            },
            "type": "scattercarpet"
           }
          ],
          "scattergeo": [
           {
            "marker": {
             "colorbar": {
              "outlinewidth": 0,
              "ticks": ""
             }
            },
            "type": "scattergeo"
           }
          ],
          "scattergl": [
           {
            "marker": {
             "colorbar": {
              "outlinewidth": 0,
              "ticks": ""
             }
            },
            "type": "scattergl"
           }
          ],
          "scattermapbox": [
           {
            "marker": {
             "colorbar": {
              "outlinewidth": 0,
              "ticks": ""
             }
            },
            "type": "scattermapbox"
           }
          ],
          "scatterpolar": [
           {
            "marker": {
             "colorbar": {
              "outlinewidth": 0,
              "ticks": ""
             }
            },
            "type": "scatterpolar"
           }
          ],
          "scatterpolargl": [
           {
            "marker": {
             "colorbar": {
              "outlinewidth": 0,
              "ticks": ""
             }
            },
            "type": "scatterpolargl"
           }
          ],
          "scatterternary": [
           {
            "marker": {
             "colorbar": {
              "outlinewidth": 0,
              "ticks": ""
             }
            },
            "type": "scatterternary"
           }
          ],
          "surface": [
           {
            "colorbar": {
             "outlinewidth": 0,
             "ticks": ""
            },
            "colorscale": [
             [
              0,
              "#0d0887"
             ],
             [
              0.1111111111111111,
              "#46039f"
             ],
             [
              0.2222222222222222,
              "#7201a8"
             ],
             [
              0.3333333333333333,
              "#9c179e"
             ],
             [
              0.4444444444444444,
              "#bd3786"
             ],
             [
              0.5555555555555556,
              "#d8576b"
             ],
             [
              0.6666666666666666,
              "#ed7953"
             ],
             [
              0.7777777777777778,
              "#fb9f3a"
             ],
             [
              0.8888888888888888,
              "#fdca26"
             ],
             [
              1,
              "#f0f921"
             ]
            ],
            "type": "surface"
           }
          ],
          "table": [
           {
            "cells": {
             "fill": {
              "color": "#EBF0F8"
             },
             "line": {
              "color": "white"
             }
            },
            "header": {
             "fill": {
              "color": "#C8D4E3"
             },
             "line": {
              "color": "white"
             }
            },
            "type": "table"
           }
          ]
         },
         "layout": {
          "annotationdefaults": {
           "arrowcolor": "#2a3f5f",
           "arrowhead": 0,
           "arrowwidth": 1
          },
          "autotypenumbers": "strict",
          "coloraxis": {
           "colorbar": {
            "outlinewidth": 0,
            "ticks": ""
           }
          },
          "colorscale": {
           "diverging": [
            [
             0,
             "#8e0152"
            ],
            [
             0.1,
             "#c51b7d"
            ],
            [
             0.2,
             "#de77ae"
            ],
            [
             0.3,
             "#f1b6da"
            ],
            [
             0.4,
             "#fde0ef"
            ],
            [
             0.5,
             "#f7f7f7"
            ],
            [
             0.6,
             "#e6f5d0"
            ],
            [
             0.7,
             "#b8e186"
            ],
            [
             0.8,
             "#7fbc41"
            ],
            [
             0.9,
             "#4d9221"
            ],
            [
             1,
             "#276419"
            ]
           ],
           "sequential": [
            [
             0,
             "#0d0887"
            ],
            [
             0.1111111111111111,
             "#46039f"
            ],
            [
             0.2222222222222222,
             "#7201a8"
            ],
            [
             0.3333333333333333,
             "#9c179e"
            ],
            [
             0.4444444444444444,
             "#bd3786"
            ],
            [
             0.5555555555555556,
             "#d8576b"
            ],
            [
             0.6666666666666666,
             "#ed7953"
            ],
            [
             0.7777777777777778,
             "#fb9f3a"
            ],
            [
             0.8888888888888888,
             "#fdca26"
            ],
            [
             1,
             "#f0f921"
            ]
           ],
           "sequentialminus": [
            [
             0,
             "#0d0887"
            ],
            [
             0.1111111111111111,
             "#46039f"
            ],
            [
             0.2222222222222222,
             "#7201a8"
            ],
            [
             0.3333333333333333,
             "#9c179e"
            ],
            [
             0.4444444444444444,
             "#bd3786"
            ],
            [
             0.5555555555555556,
             "#d8576b"
            ],
            [
             0.6666666666666666,
             "#ed7953"
            ],
            [
             0.7777777777777778,
             "#fb9f3a"
            ],
            [
             0.8888888888888888,
             "#fdca26"
            ],
            [
             1,
             "#f0f921"
            ]
           ]
          },
          "colorway": [
           "#636efa",
           "#EF553B",
           "#00cc96",
           "#ab63fa",
           "#FFA15A",
           "#19d3f3",
           "#FF6692",
           "#B6E880",
           "#FF97FF",
           "#FECB52"
          ],
          "font": {
           "color": "#2a3f5f"
          },
          "geo": {
           "bgcolor": "white",
           "lakecolor": "white",
           "landcolor": "#E5ECF6",
           "showlakes": true,
           "showland": true,
           "subunitcolor": "white"
          },
          "hoverlabel": {
           "align": "left"
          },
          "hovermode": "closest",
          "mapbox": {
           "style": "light"
          },
          "paper_bgcolor": "white",
          "plot_bgcolor": "#E5ECF6",
          "polar": {
           "angularaxis": {
            "gridcolor": "white",
            "linecolor": "white",
            "ticks": ""
           },
           "bgcolor": "#E5ECF6",
           "radialaxis": {
            "gridcolor": "white",
            "linecolor": "white",
            "ticks": ""
           }
          },
          "scene": {
           "xaxis": {
            "backgroundcolor": "#E5ECF6",
            "gridcolor": "white",
            "gridwidth": 2,
            "linecolor": "white",
            "showbackground": true,
            "ticks": "",
            "zerolinecolor": "white"
           },
           "yaxis": {
            "backgroundcolor": "#E5ECF6",
            "gridcolor": "white",
            "gridwidth": 2,
            "linecolor": "white",
            "showbackground": true,
            "ticks": "",
            "zerolinecolor": "white"
           },
           "zaxis": {
            "backgroundcolor": "#E5ECF6",
            "gridcolor": "white",
            "gridwidth": 2,
            "linecolor": "white",
            "showbackground": true,
            "ticks": "",
            "zerolinecolor": "white"
           }
          },
          "shapedefaults": {
           "line": {
            "color": "#2a3f5f"
           }
          },
          "ternary": {
           "aaxis": {
            "gridcolor": "white",
            "linecolor": "white",
            "ticks": ""
           },
           "baxis": {
            "gridcolor": "white",
            "linecolor": "white",
            "ticks": ""
           },
           "bgcolor": "#E5ECF6",
           "caxis": {
            "gridcolor": "white",
            "linecolor": "white",
            "ticks": ""
           }
          },
          "title": {
           "x": 0.05
          },
          "xaxis": {
           "automargin": true,
           "gridcolor": "white",
           "linecolor": "white",
           "ticks": "",
           "title": {
            "standoff": 15
           },
           "zerolinecolor": "white",
           "zerolinewidth": 2
          },
          "yaxis": {
           "automargin": true,
           "gridcolor": "white",
           "linecolor": "white",
           "ticks": "",
           "title": {
            "standoff": 15
           },
           "zerolinecolor": "white",
           "zerolinewidth": 2
          }
         }
        }
       }
      }
     },
     "metadata": {},
     "output_type": "display_data"
    }
   ],
   "source": [
    "data = data.sort_values(by=\"year\")\n",
    "overall = data[(data[\"waste_type\"] == \"Overall\") | (data[\"waste_type\"] == \"Total\")]\n",
    "\n",
    "\n",
    "fig = go.Figure()\n",
    "\n",
    "fig.add_trace(\n",
    "    go.Bar(\n",
    "        x=overall[\"year\"],\n",
    "        y=overall[\"total_waste_generated_tonne\"],\n",
    "        name=\"Waste Generated\",\n",
    "    )\n",
    ")\n",
    "\n",
    "fig.add_trace(\n",
    "    go.Bar(\n",
    "        x=overall[\"year\"],\n",
    "        y=overall[\"total_waste_recycled_tonne\"],\n",
    "        name=\"Waste Recycled\",\n",
    "    )\n",
    ")\n",
    "\n",
    "fig.show()"
   ]
  },
  {
   "cell_type": "code",
   "execution_count": 6,
   "metadata": {},
   "outputs": [
    {
     "data": {
      "text/html": [
       "<div>\n",
       "<style scoped>\n",
       "    .dataframe tbody tr th:only-of-type {\n",
       "        vertical-align: middle;\n",
       "    }\n",
       "\n",
       "    .dataframe tbody tr th {\n",
       "        vertical-align: top;\n",
       "    }\n",
       "\n",
       "    .dataframe thead th {\n",
       "        text-align: right;\n",
       "    }\n",
       "</style>\n",
       "<table border=\"1\" class=\"dataframe\">\n",
       "  <thead>\n",
       "    <tr style=\"text-align: right;\">\n",
       "      <th></th>\n",
       "      <th>waste_type</th>\n",
       "      <th>waste_disposed_of_tonne</th>\n",
       "      <th>total_waste_recycled_tonne</th>\n",
       "      <th>total_waste_generated_tonne</th>\n",
       "      <th>recycling_rate</th>\n",
       "      <th>year</th>\n",
       "    </tr>\n",
       "  </thead>\n",
       "  <tbody>\n",
       "    <tr>\n",
       "      <th>225</th>\n",
       "      <td>Ferrous metal</td>\n",
       "      <td>7000</td>\n",
       "      <td>1331000</td>\n",
       "      <td>1338000</td>\n",
       "      <td>0.99</td>\n",
       "      <td>2022</td>\n",
       "    </tr>\n",
       "    <tr>\n",
       "      <th>226</th>\n",
       "      <td>Paper/Cardboard</td>\n",
       "      <td>671000</td>\n",
       "      <td>394000</td>\n",
       "      <td>1065000</td>\n",
       "      <td>0.37</td>\n",
       "      <td>2022</td>\n",
       "    </tr>\n",
       "    <tr>\n",
       "      <th>227</th>\n",
       "      <td>Construction &amp; Demolition</td>\n",
       "      <td>5000</td>\n",
       "      <td>1419000</td>\n",
       "      <td>1424000</td>\n",
       "      <td>0.99</td>\n",
       "      <td>2022</td>\n",
       "    </tr>\n",
       "    <tr>\n",
       "      <th>228</th>\n",
       "      <td>Plastics</td>\n",
       "      <td>944000</td>\n",
       "      <td>57000</td>\n",
       "      <td>1001000</td>\n",
       "      <td>0.06</td>\n",
       "      <td>2022</td>\n",
       "    </tr>\n",
       "    <tr>\n",
       "      <th>229</th>\n",
       "      <td>Food</td>\n",
       "      <td>667000</td>\n",
       "      <td>146000</td>\n",
       "      <td>813000</td>\n",
       "      <td>0.18</td>\n",
       "      <td>2022</td>\n",
       "    </tr>\n",
       "    <tr>\n",
       "      <th>230</th>\n",
       "      <td>Horticultural</td>\n",
       "      <td>32000</td>\n",
       "      <td>188000</td>\n",
       "      <td>220000</td>\n",
       "      <td>0.85</td>\n",
       "      <td>2022</td>\n",
       "    </tr>\n",
       "    <tr>\n",
       "      <th>233</th>\n",
       "      <td>Textile/Leather</td>\n",
       "      <td>249000</td>\n",
       "      <td>5000</td>\n",
       "      <td>254000</td>\n",
       "      <td>0.02</td>\n",
       "      <td>2022</td>\n",
       "    </tr>\n",
       "    <tr>\n",
       "      <th>232</th>\n",
       "      <td>Ash &amp; sludge</td>\n",
       "      <td>213000</td>\n",
       "      <td>27000</td>\n",
       "      <td>240000</td>\n",
       "      <td>0.11</td>\n",
       "      <td>2022</td>\n",
       "    </tr>\n",
       "    <tr>\n",
       "      <th>238</th>\n",
       "      <td>Others (stones, ceramics, etc.)</td>\n",
       "      <td>219000</td>\n",
       "      <td>30000</td>\n",
       "      <td>249000</td>\n",
       "      <td>NaN</td>\n",
       "      <td>2022</td>\n",
       "    </tr>\n",
       "    <tr>\n",
       "      <th>234</th>\n",
       "      <td>Used slag</td>\n",
       "      <td>2000</td>\n",
       "      <td>166000</td>\n",
       "      <td>168000</td>\n",
       "      <td>0.99</td>\n",
       "      <td>2022</td>\n",
       "    </tr>\n",
       "    <tr>\n",
       "      <th>235</th>\n",
       "      <td>Non-ferrous metal</td>\n",
       "      <td>2000</td>\n",
       "      <td>91000</td>\n",
       "      <td>93000</td>\n",
       "      <td>0.98</td>\n",
       "      <td>2022</td>\n",
       "    </tr>\n",
       "    <tr>\n",
       "      <th>236</th>\n",
       "      <td>Glass</td>\n",
       "      <td>63000</td>\n",
       "      <td>11000</td>\n",
       "      <td>74000</td>\n",
       "      <td>0.14</td>\n",
       "      <td>2022</td>\n",
       "    </tr>\n",
       "    <tr>\n",
       "      <th>239</th>\n",
       "      <td>Total</td>\n",
       "      <td>3197000</td>\n",
       "      <td>4188000</td>\n",
       "      <td>7385000</td>\n",
       "      <td>0.57</td>\n",
       "      <td>2022</td>\n",
       "    </tr>\n",
       "    <tr>\n",
       "      <th>231</th>\n",
       "      <td>Wood</td>\n",
       "      <td>121000</td>\n",
       "      <td>298000</td>\n",
       "      <td>419000</td>\n",
       "      <td>0.71</td>\n",
       "      <td>2022</td>\n",
       "    </tr>\n",
       "    <tr>\n",
       "      <th>237</th>\n",
       "      <td>Scrap tyres</td>\n",
       "      <td>1000</td>\n",
       "      <td>25000</td>\n",
       "      <td>26000</td>\n",
       "      <td>0.95</td>\n",
       "      <td>2022</td>\n",
       "    </tr>\n",
       "  </tbody>\n",
       "</table>\n",
       "</div>"
      ],
      "text/plain": [
       "                          waste_type  waste_disposed_of_tonne  \\\n",
       "225                    Ferrous metal                     7000   \n",
       "226                  Paper/Cardboard                   671000   \n",
       "227        Construction & Demolition                     5000   \n",
       "228                         Plastics                   944000   \n",
       "229                             Food                   667000   \n",
       "230                    Horticultural                    32000   \n",
       "233                  Textile/Leather                   249000   \n",
       "232                     Ash & sludge                   213000   \n",
       "238  Others (stones, ceramics, etc.)                   219000   \n",
       "234                        Used slag                     2000   \n",
       "235                Non-ferrous metal                     2000   \n",
       "236                            Glass                    63000   \n",
       "239                            Total                  3197000   \n",
       "231                             Wood                   121000   \n",
       "237                      Scrap tyres                     1000   \n",
       "\n",
       "     total_waste_recycled_tonne  total_waste_generated_tonne  recycling_rate  \\\n",
       "225                     1331000                      1338000            0.99   \n",
       "226                      394000                      1065000            0.37   \n",
       "227                     1419000                      1424000            0.99   \n",
       "228                       57000                      1001000            0.06   \n",
       "229                      146000                       813000            0.18   \n",
       "230                      188000                       220000            0.85   \n",
       "233                        5000                       254000            0.02   \n",
       "232                       27000                       240000            0.11   \n",
       "238                       30000                       249000             NaN   \n",
       "234                      166000                       168000            0.99   \n",
       "235                       91000                        93000            0.98   \n",
       "236                       11000                        74000            0.14   \n",
       "239                     4188000                      7385000            0.57   \n",
       "231                      298000                       419000            0.71   \n",
       "237                       25000                        26000            0.95   \n",
       "\n",
       "     year  \n",
       "225  2022  \n",
       "226  2022  \n",
       "227  2022  \n",
       "228  2022  \n",
       "229  2022  \n",
       "230  2022  \n",
       "233  2022  \n",
       "232  2022  \n",
       "238  2022  \n",
       "234  2022  \n",
       "235  2022  \n",
       "236  2022  \n",
       "239  2022  \n",
       "231  2022  \n",
       "237  2022  "
      ]
     },
     "execution_count": 6,
     "metadata": {},
     "output_type": "execute_result"
    }
   ],
   "source": [
    "data[data['year']==2022]"
   ]
  },
  {
   "cell_type": "code",
   "execution_count": 7,
   "metadata": {},
   "outputs": [
    {
     "data": {
      "image/png": "[encoded data removed]",
      "text/plain": [
       "<Figure size 576x576 with 1 Axes>"
      ]
     },
     "metadata": {},
     "output_type": "display_data"
    }
   ],
   "source": [
    "# Filter data for the year 2022\n",
    "data_2022 = data[(data['waste_type'] != 'Total') & (data['year'] == 2022)]\n",
    "\n",
    "# Calculate the sum of recycling_rate for each waste_type\n",
    "grouped_data = data_2022.groupby('waste_type')['waste_disposed_of_tonne'].sum()\n",
    "\n",
    "# Create pie chart for waste_type and recycling_rate in 2022\n",
    "plt.figure(figsize=(8, 8))\n",
    "plt.pie(grouped_data, labels=grouped_data.index, autopct='%1.1f%%')\n",
    "plt.title('Distribution of Waste Types by Recycling Rate in 2022')\n",
    "plt.show()"
   ]
  },
  {
   "cell_type": "code",
   "execution_count": 8,
   "metadata": {},
   "outputs": [
    {
     "data": {
      "text/plain": [
       "Total                                      20\n",
       "Textile/Leather                            16\n",
       "Glass                                      16\n",
       "Paper/Cardboard                            16\n",
       "Plastics                                   15\n",
       "Others (stones, ceramics & rubber etc)     12\n",
       "Sludge                                     11\n",
       "Non-ferrous Metals                         11\n",
       "Scrap Tyres                                11\n",
       "Construction Debris                        11\n",
       "Used Slag                                  11\n",
       "Wood/Timber                                11\n",
       "Horticultural Waste                        11\n",
       "Food waste                                 11\n",
       "Ferrous Metal                               7\n",
       "Wood                                        5\n",
       "Ferrous metal                               5\n",
       "Used slag                                   5\n",
       "Scrap tyres                                 5\n",
       "Food                                        5\n",
       "Horticultural                               4\n",
       "Scrap tyres                                 4\n",
       "Textile/Leather                             4\n",
       "Glass                                       4\n",
       "Wood                                        4\n",
       "Ferrous metal                               4\n",
       "Used slag                                   4\n",
       "Non-ferrous metal                           4\n",
       "Paper/Cardboard                             4\n",
       "Ferrous Metals                              4\n",
       "Horticultural waste                         4\n",
       "Non-ferrous metal                           4\n",
       "Food                                        4\n",
       "Plastics                                    4\n",
       "Ash & sludge                                4\n",
       "Others (stones, ceramics, etc.)             3\n",
       "Ash & Sludge                                3\n",
       "C&D                                         3\n",
       "C&D                                         2\n",
       "Construction & Demolition (C&D)             2\n",
       "Others (stones, ceramic, rubber, etc.)      1\n",
       "Others                                      1\n",
       "Construction & Demolition                   1\n",
       "Ash and sludge                              1\n",
       "Others (stones, ceramics & rubber etc.)     1\n",
       "Non-ferrous metals                          1\n",
       "Others (stones, ceramics, etc. )            1\n",
       "Horticultural                               1\n",
       "Ash & sludge                                1\n",
       "Plastic                                     1\n",
       "Construction debris                         1\n",
       "Others (stones, ceramics, etc.)             1\n",
       "Name: waste_type, dtype: int64"
      ]
     },
     "execution_count": 8,
     "metadata": {},
     "output_type": "execute_result"
    }
   ],
   "source": [
    "data['waste_type'].value_counts()"
   ]
  },
  {
   "cell_type": "code",
   "execution_count": 9,
   "metadata": {},
   "outputs": [],
   "source": [
    "data[\"waste_type\"] = data[\"waste_type\"].str.replace(\n",
    "    \"Non-ferrous metal\", \"Non-Ferrous Metal\"\n",
    "    )\n",
    "data[\"waste_type\"] = data[\"waste_type\"].str.replace(\n",
    "    \"Non-ferrous metals\", \"Non-Ferrous Metal\"\n",
    "    )\n",
    "data[\"waste_type\"] = data[\"waste_type\"].str.replace(\n",
    "    \"Non-Ferrous Metals\", \"Non-Ferrous Metal\"\n",
    "    )\n",
    "data[\"waste_type\"] = data[\"waste_type\"].str.replace(\n",
    "    \"Plastics\", \"Plastic\"\n",
    "    )\n",
    "data[\"waste_type\"] = data[\"waste_type\"].str.replace(\n",
    "    \"Ferrous metal\", \"Ferrous Metal\"\n",
    "    )\n",
    "data[\"waste_type\"] = data[\"waste_type\"].str.replace(\n",
    "    \"Paper/Cardboard\", \"Paper\"\n",
    "    )"
   ]
  },
  {
   "cell_type": "code",
   "execution_count": 10,
   "metadata": {},
   "outputs": [
    {
     "data": {
      "text/html": [
       "<style  type=\"text/css\" >\n",
       "#T_ae487978_f974_11ed_a806_f45c89b3ad2drow0_col0,#T_ae487978_f974_11ed_a806_f45c89b3ad2drow3_col0,#T_ae487978_f974_11ed_a806_f45c89b3ad2drow13_col0,#T_ae487978_f974_11ed_a806_f45c89b3ad2drow14_col0,#T_ae487978_f974_11ed_a806_f45c89b3ad2drow16_col0,#T_ae487978_f974_11ed_a806_f45c89b3ad2drow17_col0{\n",
       "            background-color:  #fddaec;\n",
       "            color:  #000000;\n",
       "        }#T_ae487978_f974_11ed_a806_f45c89b3ad2drow1_col0,#T_ae487978_f974_11ed_a806_f45c89b3ad2drow2_col0,#T_ae487978_f974_11ed_a806_f45c89b3ad2drow15_col0,#T_ae487978_f974_11ed_a806_f45c89b3ad2drow25_col0,#T_ae487978_f974_11ed_a806_f45c89b3ad2drow26_col0,#T_ae487978_f974_11ed_a806_f45c89b3ad2drow27_col0,#T_ae487978_f974_11ed_a806_f45c89b3ad2drow28_col0,#T_ae487978_f974_11ed_a806_f45c89b3ad2drow29_col0,#T_ae487978_f974_11ed_a806_f45c89b3ad2drow31_col0,#T_ae487978_f974_11ed_a806_f45c89b3ad2drow34_col0,#T_ae487978_f974_11ed_a806_f45c89b3ad2drow35_col0,#T_ae487978_f974_11ed_a806_f45c89b3ad2drow39_col0,#T_ae487978_f974_11ed_a806_f45c89b3ad2drow40_col0,#T_ae487978_f974_11ed_a806_f45c89b3ad2drow41_col0{\n",
       "            background-color:  #f2f2f2;\n",
       "            color:  #000000;\n",
       "        }#T_ae487978_f974_11ed_a806_f45c89b3ad2drow4_col0,#T_ae487978_f974_11ed_a806_f45c89b3ad2drow5_col0,#T_ae487978_f974_11ed_a806_f45c89b3ad2drow6_col0,#T_ae487978_f974_11ed_a806_f45c89b3ad2drow7_col0,#T_ae487978_f974_11ed_a806_f45c89b3ad2drow8_col0,#T_ae487978_f974_11ed_a806_f45c89b3ad2drow9_col0,#T_ae487978_f974_11ed_a806_f45c89b3ad2drow10_col0,#T_ae487978_f974_11ed_a806_f45c89b3ad2drow11_col0,#T_ae487978_f974_11ed_a806_f45c89b3ad2drow12_col0,#T_ae487978_f974_11ed_a806_f45c89b3ad2drow22_col0,#T_ae487978_f974_11ed_a806_f45c89b3ad2drow23_col0,#T_ae487978_f974_11ed_a806_f45c89b3ad2drow37_col0,#T_ae487978_f974_11ed_a806_f45c89b3ad2drow38_col0,#T_ae487978_f974_11ed_a806_f45c89b3ad2drow43_col0,#T_ae487978_f974_11ed_a806_f45c89b3ad2drow44_col0,#T_ae487978_f974_11ed_a806_f45c89b3ad2drow45_col0{\n",
       "            background-color:  #fbb4ae;\n",
       "            color:  #000000;\n",
       "        }#T_ae487978_f974_11ed_a806_f45c89b3ad2drow18_col0,#T_ae487978_f974_11ed_a806_f45c89b3ad2drow19_col0,#T_ae487978_f974_11ed_a806_f45c89b3ad2drow24_col0{\n",
       "            background-color:  #b3cde3;\n",
       "            color:  #000000;\n",
       "        }#T_ae487978_f974_11ed_a806_f45c89b3ad2drow20_col0,#T_ae487978_f974_11ed_a806_f45c89b3ad2drow33_col0{\n",
       "            background-color:  #ffffcc;\n",
       "            color:  #000000;\n",
       "        }#T_ae487978_f974_11ed_a806_f45c89b3ad2drow21_col0,#T_ae487978_f974_11ed_a806_f45c89b3ad2drow42_col0{\n",
       "            background-color:  #decbe4;\n",
       "            color:  #000000;\n",
       "        }#T_ae487978_f974_11ed_a806_f45c89b3ad2drow30_col0{\n",
       "            background-color:  #000000;\n",
       "            color:  #f1f1f1;\n",
       "        }#T_ae487978_f974_11ed_a806_f45c89b3ad2drow32_col0,#T_ae487978_f974_11ed_a806_f45c89b3ad2drow48_col0{\n",
       "            background-color:  #fed9a6;\n",
       "            color:  #000000;\n",
       "        }#T_ae487978_f974_11ed_a806_f45c89b3ad2drow36_col0,#T_ae487978_f974_11ed_a806_f45c89b3ad2drow46_col0,#T_ae487978_f974_11ed_a806_f45c89b3ad2drow47_col0{\n",
       "            background-color:  #ccebc5;\n",
       "            color:  #000000;\n",
       "        }</style><table id=\"T_ae487978_f974_11ed_a806_f45c89b3ad2d\" ><thead>    <tr>        <th class=\"blank level0\" ></th>        <th class=\"col_heading level0 col0\" >recycling_rate</th>    </tr>    <tr>        <th class=\"index_name level0\" >waste_type</th>        <th class=\"blank\" ></th>    </tr></thead><tbody>\n",
       "                <tr>\n",
       "                        <th id=\"T_ae487978_f974_11ed_a806_f45c89b3ad2dlevel0_row0\" class=\"row_heading level0 row0\" >Ash & Sludge</th>\n",
       "                        <td id=\"T_ae487978_f974_11ed_a806_f45c89b3ad2drow0_col0\" class=\"data row0 col0\" >0.136667</td>\n",
       "            </tr>\n",
       "            <tr>\n",
       "                        <th id=\"T_ae487978_f974_11ed_a806_f45c89b3ad2dlevel0_row1\" class=\"row_heading level0 row1\" >Ash & sludge</th>\n",
       "                        <td id=\"T_ae487978_f974_11ed_a806_f45c89b3ad2drow1_col0\" class=\"data row1 col0\" >0.110000</td>\n",
       "            </tr>\n",
       "            <tr>\n",
       "                        <th id=\"T_ae487978_f974_11ed_a806_f45c89b3ad2dlevel0_row2\" class=\"row_heading level0 row2\" >Ash & sludge </th>\n",
       "                        <td id=\"T_ae487978_f974_11ed_a806_f45c89b3ad2drow2_col0\" class=\"data row2 col0\" >0.090000</td>\n",
       "            </tr>\n",
       "            <tr>\n",
       "                        <th id=\"T_ae487978_f974_11ed_a806_f45c89b3ad2dlevel0_row3\" class=\"row_heading level0 row3\" >Ash and sludge</th>\n",
       "                        <td id=\"T_ae487978_f974_11ed_a806_f45c89b3ad2drow3_col0\" class=\"data row3 col0\" >0.120000</td>\n",
       "            </tr>\n",
       "            <tr>\n",
       "                        <th id=\"T_ae487978_f974_11ed_a806_f45c89b3ad2dlevel0_row4\" class=\"row_heading level0 row4\" >C&D</th>\n",
       "                        <td id=\"T_ae487978_f974_11ed_a806_f45c89b3ad2drow4_col0\" class=\"data row4 col0\" >0.990000</td>\n",
       "            </tr>\n",
       "            <tr>\n",
       "                        <th id=\"T_ae487978_f974_11ed_a806_f45c89b3ad2dlevel0_row5\" class=\"row_heading level0 row5\" >C&D </th>\n",
       "                        <td id=\"T_ae487978_f974_11ed_a806_f45c89b3ad2drow5_col0\" class=\"data row5 col0\" >0.990000</td>\n",
       "            </tr>\n",
       "            <tr>\n",
       "                        <th id=\"T_ae487978_f974_11ed_a806_f45c89b3ad2dlevel0_row6\" class=\"row_heading level0 row6\" >Construction & Demolition</th>\n",
       "                        <td id=\"T_ae487978_f974_11ed_a806_f45c89b3ad2drow6_col0\" class=\"data row6 col0\" >0.990000</td>\n",
       "            </tr>\n",
       "            <tr>\n",
       "                        <th id=\"T_ae487978_f974_11ed_a806_f45c89b3ad2dlevel0_row7\" class=\"row_heading level0 row7\" >Construction & Demolition (C&D) </th>\n",
       "                        <td id=\"T_ae487978_f974_11ed_a806_f45c89b3ad2drow7_col0\" class=\"data row7 col0\" >0.990000</td>\n",
       "            </tr>\n",
       "            <tr>\n",
       "                        <th id=\"T_ae487978_f974_11ed_a806_f45c89b3ad2dlevel0_row8\" class=\"row_heading level0 row8\" >Construction Debris</th>\n",
       "                        <td id=\"T_ae487978_f974_11ed_a806_f45c89b3ad2drow8_col0\" class=\"data row8 col0\" >0.971818</td>\n",
       "            </tr>\n",
       "            <tr>\n",
       "                        <th id=\"T_ae487978_f974_11ed_a806_f45c89b3ad2dlevel0_row9\" class=\"row_heading level0 row9\" >Construction debris</th>\n",
       "                        <td id=\"T_ae487978_f974_11ed_a806_f45c89b3ad2drow9_col0\" class=\"data row9 col0\" >0.990000</td>\n",
       "            </tr>\n",
       "            <tr>\n",
       "                        <th id=\"T_ae487978_f974_11ed_a806_f45c89b3ad2dlevel0_row10\" class=\"row_heading level0 row10\" >Ferrous Metal</th>\n",
       "                        <td id=\"T_ae487978_f974_11ed_a806_f45c89b3ad2drow10_col0\" class=\"data row10 col0\" >0.959167</td>\n",
       "            </tr>\n",
       "            <tr>\n",
       "                        <th id=\"T_ae487978_f974_11ed_a806_f45c89b3ad2dlevel0_row11\" class=\"row_heading level0 row11\" >Ferrous Metal </th>\n",
       "                        <td id=\"T_ae487978_f974_11ed_a806_f45c89b3ad2drow11_col0\" class=\"data row11 col0\" >0.990000</td>\n",
       "            </tr>\n",
       "            <tr>\n",
       "                        <th id=\"T_ae487978_f974_11ed_a806_f45c89b3ad2dlevel0_row12\" class=\"row_heading level0 row12\" >Ferrous Metals</th>\n",
       "                        <td id=\"T_ae487978_f974_11ed_a806_f45c89b3ad2drow12_col0\" class=\"data row12 col0\" >0.915000</td>\n",
       "            </tr>\n",
       "            <tr>\n",
       "                        <th id=\"T_ae487978_f974_11ed_a806_f45c89b3ad2dlevel0_row13\" class=\"row_heading level0 row13\" >Food</th>\n",
       "                        <td id=\"T_ae487978_f974_11ed_a806_f45c89b3ad2drow13_col0\" class=\"data row13 col0\" >0.148000</td>\n",
       "            </tr>\n",
       "            <tr>\n",
       "                        <th id=\"T_ae487978_f974_11ed_a806_f45c89b3ad2dlevel0_row14\" class=\"row_heading level0 row14\" >Food </th>\n",
       "                        <td id=\"T_ae487978_f974_11ed_a806_f45c89b3ad2drow14_col0\" class=\"data row14 col0\" >0.182500</td>\n",
       "            </tr>\n",
       "            <tr>\n",
       "                        <th id=\"T_ae487978_f974_11ed_a806_f45c89b3ad2dlevel0_row15\" class=\"row_heading level0 row15\" >Food waste</th>\n",
       "                        <td id=\"T_ae487978_f974_11ed_a806_f45c89b3ad2drow15_col0\" class=\"data row15 col0\" >0.101818</td>\n",
       "            </tr>\n",
       "            <tr>\n",
       "                        <th id=\"T_ae487978_f974_11ed_a806_f45c89b3ad2dlevel0_row16\" class=\"row_heading level0 row16\" >Glass</th>\n",
       "                        <td id=\"T_ae487978_f974_11ed_a806_f45c89b3ad2drow16_col0\" class=\"data row16 col0\" >0.168125</td>\n",
       "            </tr>\n",
       "            <tr>\n",
       "                        <th id=\"T_ae487978_f974_11ed_a806_f45c89b3ad2dlevel0_row17\" class=\"row_heading level0 row17\" >Glass </th>\n",
       "                        <td id=\"T_ae487978_f974_11ed_a806_f45c89b3ad2drow17_col0\" class=\"data row17 col0\" >0.142500</td>\n",
       "            </tr>\n",
       "            <tr>\n",
       "                        <th id=\"T_ae487978_f974_11ed_a806_f45c89b3ad2dlevel0_row18\" class=\"row_heading level0 row18\" >Horticultural</th>\n",
       "                        <td id=\"T_ae487978_f974_11ed_a806_f45c89b3ad2drow18_col0\" class=\"data row18 col0\" >0.850000</td>\n",
       "            </tr>\n",
       "            <tr>\n",
       "                        <th id=\"T_ae487978_f974_11ed_a806_f45c89b3ad2dlevel0_row19\" class=\"row_heading level0 row19\" >Horticultural </th>\n",
       "                        <td id=\"T_ae487978_f974_11ed_a806_f45c89b3ad2drow19_col0\" class=\"data row19 col0\" >0.795000</td>\n",
       "            </tr>\n",
       "            <tr>\n",
       "                        <th id=\"T_ae487978_f974_11ed_a806_f45c89b3ad2dlevel0_row20\" class=\"row_heading level0 row20\" >Horticultural Waste</th>\n",
       "                        <td id=\"T_ae487978_f974_11ed_a806_f45c89b3ad2drow20_col0\" class=\"data row20 col0\" >0.431818</td>\n",
       "            </tr>\n",
       "            <tr>\n",
       "                        <th id=\"T_ae487978_f974_11ed_a806_f45c89b3ad2dlevel0_row21\" class=\"row_heading level0 row21\" >Horticultural waste</th>\n",
       "                        <td id=\"T_ae487978_f974_11ed_a806_f45c89b3ad2drow21_col0\" class=\"data row21 col0\" >0.642500</td>\n",
       "            </tr>\n",
       "            <tr>\n",
       "                        <th id=\"T_ae487978_f974_11ed_a806_f45c89b3ad2dlevel0_row22\" class=\"row_heading level0 row22\" >Non-Ferrous Metal</th>\n",
       "                        <td id=\"T_ae487978_f974_11ed_a806_f45c89b3ad2drow22_col0\" class=\"data row22 col0\" >0.928000</td>\n",
       "            </tr>\n",
       "            <tr>\n",
       "                        <th id=\"T_ae487978_f974_11ed_a806_f45c89b3ad2dlevel0_row23\" class=\"row_heading level0 row23\" >Non-Ferrous Metal </th>\n",
       "                        <td id=\"T_ae487978_f974_11ed_a806_f45c89b3ad2drow23_col0\" class=\"data row23 col0\" >0.985000</td>\n",
       "            </tr>\n",
       "            <tr>\n",
       "                        <th id=\"T_ae487978_f974_11ed_a806_f45c89b3ad2dlevel0_row24\" class=\"row_heading level0 row24\" >Non-ferrous Metals</th>\n",
       "                        <td id=\"T_ae487978_f974_11ed_a806_f45c89b3ad2drow24_col0\" class=\"data row24 col0\" >0.831818</td>\n",
       "            </tr>\n",
       "            <tr>\n",
       "                        <th id=\"T_ae487978_f974_11ed_a806_f45c89b3ad2dlevel0_row25\" class=\"row_heading level0 row25\" >Others</th>\n",
       "                        <td id=\"T_ae487978_f974_11ed_a806_f45c89b3ad2drow25_col0\" class=\"data row25 col0\" >0.100000</td>\n",
       "            </tr>\n",
       "            <tr>\n",
       "                        <th id=\"T_ae487978_f974_11ed_a806_f45c89b3ad2dlevel0_row26\" class=\"row_heading level0 row26\" >Others (stones, ceramic, rubber, etc.)</th>\n",
       "                        <td id=\"T_ae487978_f974_11ed_a806_f45c89b3ad2drow26_col0\" class=\"data row26 col0\" >0.020000</td>\n",
       "            </tr>\n",
       "            <tr>\n",
       "                        <th id=\"T_ae487978_f974_11ed_a806_f45c89b3ad2dlevel0_row27\" class=\"row_heading level0 row27\" >Others (stones, ceramics & rubber etc)</th>\n",
       "                        <td id=\"T_ae487978_f974_11ed_a806_f45c89b3ad2drow27_col0\" class=\"data row27 col0\" >0.022500</td>\n",
       "            </tr>\n",
       "            <tr>\n",
       "                        <th id=\"T_ae487978_f974_11ed_a806_f45c89b3ad2dlevel0_row28\" class=\"row_heading level0 row28\" >Others (stones, ceramics & rubber etc.)</th>\n",
       "                        <td id=\"T_ae487978_f974_11ed_a806_f45c89b3ad2drow28_col0\" class=\"data row28 col0\" >0.020000</td>\n",
       "            </tr>\n",
       "            <tr>\n",
       "                        <th id=\"T_ae487978_f974_11ed_a806_f45c89b3ad2dlevel0_row29\" class=\"row_heading level0 row29\" >Others (stones, ceramics, etc. ) </th>\n",
       "                        <td id=\"T_ae487978_f974_11ed_a806_f45c89b3ad2drow29_col0\" class=\"data row29 col0\" >0.040000</td>\n",
       "            </tr>\n",
       "            <tr>\n",
       "                        <th id=\"T_ae487978_f974_11ed_a806_f45c89b3ad2dlevel0_row30\" class=\"row_heading level0 row30\" >Others (stones, ceramics, etc.)</th>\n",
       "                        <td id=\"T_ae487978_f974_11ed_a806_f45c89b3ad2drow30_col0\" class=\"data row30 col0\" >nan</td>\n",
       "            </tr>\n",
       "            <tr>\n",
       "                        <th id=\"T_ae487978_f974_11ed_a806_f45c89b3ad2dlevel0_row31\" class=\"row_heading level0 row31\" >Others (stones, ceramics, etc.) </th>\n",
       "                        <td id=\"T_ae487978_f974_11ed_a806_f45c89b3ad2drow31_col0\" class=\"data row31 col0\" >0.086667</td>\n",
       "            </tr>\n",
       "            <tr>\n",
       "                        <th id=\"T_ae487978_f974_11ed_a806_f45c89b3ad2dlevel0_row32\" class=\"row_heading level0 row32\" >Paper</th>\n",
       "                        <td id=\"T_ae487978_f974_11ed_a806_f45c89b3ad2drow32_col0\" class=\"data row32 col0\" >0.497500</td>\n",
       "            </tr>\n",
       "            <tr>\n",
       "                        <th id=\"T_ae487978_f974_11ed_a806_f45c89b3ad2dlevel0_row33\" class=\"row_heading level0 row33\" >Paper </th>\n",
       "                        <td id=\"T_ae487978_f974_11ed_a806_f45c89b3ad2drow33_col0\" class=\"data row33 col0\" >0.442500</td>\n",
       "            </tr>\n",
       "            <tr>\n",
       "                        <th id=\"T_ae487978_f974_11ed_a806_f45c89b3ad2dlevel0_row34\" class=\"row_heading level0 row34\" >Plastic</th>\n",
       "                        <td id=\"T_ae487978_f974_11ed_a806_f45c89b3ad2drow34_col0\" class=\"data row34 col0\" >0.093750</td>\n",
       "            </tr>\n",
       "            <tr>\n",
       "                        <th id=\"T_ae487978_f974_11ed_a806_f45c89b3ad2dlevel0_row35\" class=\"row_heading level0 row35\" >Plastic </th>\n",
       "                        <td id=\"T_ae487978_f974_11ed_a806_f45c89b3ad2drow35_col0\" class=\"data row35 col0\" >0.045000</td>\n",
       "            </tr>\n",
       "            <tr>\n",
       "                        <th id=\"T_ae487978_f974_11ed_a806_f45c89b3ad2dlevel0_row36\" class=\"row_heading level0 row36\" >Scrap Tyres</th>\n",
       "                        <td id=\"T_ae487978_f974_11ed_a806_f45c89b3ad2drow36_col0\" class=\"data row36 col0\" >0.760000</td>\n",
       "            </tr>\n",
       "            <tr>\n",
       "                        <th id=\"T_ae487978_f974_11ed_a806_f45c89b3ad2dlevel0_row37\" class=\"row_heading level0 row37\" >Scrap tyres</th>\n",
       "                        <td id=\"T_ae487978_f974_11ed_a806_f45c89b3ad2drow37_col0\" class=\"data row37 col0\" >0.916000</td>\n",
       "            </tr>\n",
       "            <tr>\n",
       "                        <th id=\"T_ae487978_f974_11ed_a806_f45c89b3ad2dlevel0_row38\" class=\"row_heading level0 row38\" >Scrap tyres </th>\n",
       "                        <td id=\"T_ae487978_f974_11ed_a806_f45c89b3ad2drow38_col0\" class=\"data row38 col0\" >0.935000</td>\n",
       "            </tr>\n",
       "            <tr>\n",
       "                        <th id=\"T_ae487978_f974_11ed_a806_f45c89b3ad2dlevel0_row39\" class=\"row_heading level0 row39\" >Sludge</th>\n",
       "                        <td id=\"T_ae487978_f974_11ed_a806_f45c89b3ad2drow39_col0\" class=\"data row39 col0\" >0.006364</td>\n",
       "            </tr>\n",
       "            <tr>\n",
       "                        <th id=\"T_ae487978_f974_11ed_a806_f45c89b3ad2dlevel0_row40\" class=\"row_heading level0 row40\" >Textile/Leather</th>\n",
       "                        <td id=\"T_ae487978_f974_11ed_a806_f45c89b3ad2drow40_col0\" class=\"data row40 col0\" >0.076250</td>\n",
       "            </tr>\n",
       "            <tr>\n",
       "                        <th id=\"T_ae487978_f974_11ed_a806_f45c89b3ad2dlevel0_row41\" class=\"row_heading level0 row41\" >Textile/Leather </th>\n",
       "                        <td id=\"T_ae487978_f974_11ed_a806_f45c89b3ad2drow41_col0\" class=\"data row41 col0\" >0.045000</td>\n",
       "            </tr>\n",
       "            <tr>\n",
       "                        <th id=\"T_ae487978_f974_11ed_a806_f45c89b3ad2dlevel0_row42\" class=\"row_heading level0 row42\" >Total</th>\n",
       "                        <td id=\"T_ae487978_f974_11ed_a806_f45c89b3ad2drow42_col0\" class=\"data row42 col0\" >0.564000</td>\n",
       "            </tr>\n",
       "            <tr>\n",
       "                        <th id=\"T_ae487978_f974_11ed_a806_f45c89b3ad2dlevel0_row43\" class=\"row_heading level0 row43\" >Used Slag</th>\n",
       "                        <td id=\"T_ae487978_f974_11ed_a806_f45c89b3ad2drow43_col0\" class=\"data row43 col0\" >0.949091</td>\n",
       "            </tr>\n",
       "            <tr>\n",
       "                        <th id=\"T_ae487978_f974_11ed_a806_f45c89b3ad2dlevel0_row44\" class=\"row_heading level0 row44\" >Used slag</th>\n",
       "                        <td id=\"T_ae487978_f974_11ed_a806_f45c89b3ad2drow44_col0\" class=\"data row44 col0\" >0.988000</td>\n",
       "            </tr>\n",
       "            <tr>\n",
       "                        <th id=\"T_ae487978_f974_11ed_a806_f45c89b3ad2dlevel0_row45\" class=\"row_heading level0 row45\" >Used slag </th>\n",
       "                        <td id=\"T_ae487978_f974_11ed_a806_f45c89b3ad2drow45_col0\" class=\"data row45 col0\" >0.990000</td>\n",
       "            </tr>\n",
       "            <tr>\n",
       "                        <th id=\"T_ae487978_f974_11ed_a806_f45c89b3ad2dlevel0_row46\" class=\"row_heading level0 row46\" >Wood</th>\n",
       "                        <td id=\"T_ae487978_f974_11ed_a806_f45c89b3ad2drow46_col0\" class=\"data row46 col0\" >0.770000</td>\n",
       "            </tr>\n",
       "            <tr>\n",
       "                        <th id=\"T_ae487978_f974_11ed_a806_f45c89b3ad2dlevel0_row47\" class=\"row_heading level0 row47\" >Wood </th>\n",
       "                        <td id=\"T_ae487978_f974_11ed_a806_f45c89b3ad2drow47_col0\" class=\"data row47 col0\" >0.692500</td>\n",
       "            </tr>\n",
       "            <tr>\n",
       "                        <th id=\"T_ae487978_f974_11ed_a806_f45c89b3ad2dlevel0_row48\" class=\"row_heading level0 row48\" >Wood/Timber</th>\n",
       "                        <td id=\"T_ae487978_f974_11ed_a806_f45c89b3ad2drow48_col0\" class=\"data row48 col0\" >0.547273</td>\n",
       "            </tr>\n",
       "    </tbody></table>"
      ],
      "text/plain": [
       "<pandas.io.formats.style.Styler at 0x7fb025ded970>"
      ]
     },
     "execution_count": 10,
     "metadata": {},
     "output_type": "execute_result"
    }
   ],
   "source": [
    "data.groupby(by=[\"waste_type\"]).mean()[\n",
    "    \"recycling_rate\"\n",
    "    ].to_frame().style.\\\n",
    "    background_gradient(cmap=\"Pastel1_r\", subset=[\"recycling_rate\"])"
   ]
  },
  {
   "cell_type": "code",
   "execution_count": 11,
   "metadata": {},
   "outputs": [
    {
     "data": {
      "image/png": "[encoded data removed]",
      "text/plain": [
       "<Figure size 432x288 with 1 Axes>"
      ]
     },
     "metadata": {
      "needs_background": "light"
     },
     "output_type": "display_data"
    }
   ],
   "source": [
    "# Box plot of recycling_rate by year\n",
    "sns.boxplot(x='year', y='recycling_rate', data=data)\n",
    "plt.xlabel('Year')\n",
    "plt.ylabel('Recycling Rate')\n",
    "plt.title('Box Plot of Recycling Rate by Year')\n",
    "plt.show()"
   ]
  },
  {
   "cell_type": "code",
   "execution_count": 12,
   "metadata": {},
   "outputs": [
    {
     "data": {
      "image/png": "[encoded data removed]",
      "text/plain": [
       "<Figure size 576x432 with 1 Axes>"
      ]
     },
     "metadata": {
      "needs_background": "light"
     },
     "output_type": "display_data"
    },
    {
     "data": {
      "image/png": "[encoded data removed]",
      "text/plain": [
       "<Figure size 576x432 with 1 Axes>"
      ]
     },
     "metadata": {
      "needs_background": "light"
     },
     "output_type": "display_data"
    },
    {
     "data": {
      "image/png": "[encoded data removed]",
      "text/plain": [
       "<Figure size 576x432 with 1 Axes>"
      ]
     },
     "metadata": {
      "needs_background": "light"
     },
     "output_type": "display_data"
    }
   ],
   "source": [
    "# Plot histograms and KDEs for numeric columns\n",
    "numeric_cols = ['waste_disposed_of_tonne', 'total_waste_recycled_tonne', 'total_waste_generated_tonne']\n",
    "for col in numeric_cols:\n",
    "    plt.figure(figsize=(8, 6))\n",
    "    sns.histplot(data[col], kde=True)\n",
    "    plt.xlabel(col)\n",
    "    plt.ylabel('Density')\n",
    "    plt.title(f'Data Distribution of {col}')\n",
    "    plt.show()"
   ]
  },
  {
   "cell_type": "code",
   "execution_count": 13,
   "metadata": {},
   "outputs": [
    {
     "data": {
      "image/png": "[encoded data removed]",
      "text/plain": [
       "<Figure size 720x720 with 9 Axes>"
      ]
     },
     "metadata": {
      "needs_background": "light"
     },
     "output_type": "display_data"
    }
   ],
   "source": [
    "from pandas.plotting import scatter_matrix\n",
    "\n",
    "# Create a scatter plot matrix for selected columns\n",
    "selected_cols = ['waste_disposed_of_tonne', 'total_waste_recycled_tonne', 'total_waste_generated_tonne']\n",
    "scatter_matrix(data[selected_cols], figsize=(10, 10), diagonal='kde')\n",
    "plt.show()\n"
   ]
  },
  {
   "cell_type": "code",
   "execution_count": 14,
   "metadata": {},
   "outputs": [
    {
     "data": {
      "image/png": "[encoded data removed]",
      "text/plain": [
       "<Figure size 720x432 with 1 Axes>"
      ]
     },
     "metadata": {
      "needs_background": "light"
     },
     "output_type": "display_data"
    }
   ],
   "source": [
    "# Convert 'year' column to datetime type\n",
    "data['year'] = pd.to_datetime(data['year'])\n",
    "\n",
    "# Plot line chart of waste_disposed_of_tonne over time\n",
    "plt.figure(figsize=(10, 6))\n",
    "sns.lineplot(x='year', y='waste_disposed_of_tonne', data=data)\n",
    "plt.xlabel('Year')\n",
    "plt.ylabel('Waste Disposed of (tonne)')\n",
    "plt.title('Waste Disposed of over Time')\n",
    "plt.show()"
   ]
  }
 ],
 "metadata": {
  "kernelspec": {
   "display_name": "Python 3",
   "language": "python",
   "name": "python3"
  },
  "language_info": {
   "codemirror_mode": {
    "name": "ipython",
    "version": 3
   },
   "file_extension": ".py",
   "mimetype": "text/x-python",
   "name": "python",
   "nbconvert_exporter": "python",
   "pygments_lexer": "ipython3",
   "version": "3.8.5"
  },
  "orig_nbformat": 4
 },
 "nbformat": 4,
 "nbformat_minor": 2
}
