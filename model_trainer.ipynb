{
 "cells": [
  {
   "cell_type": "code",
   "execution_count": 1,
   "metadata": {},
   "outputs": [],
   "source": [
    "import numpy as np\n",
    "import matplotlib.pyplot as plt\n",
    "import os\n",
    "import cv2"
   ]
  },
  {
   "cell_type": "code",
   "execution_count": 120,
   "metadata": {},
   "outputs": [],
   "source": [
    "root = os.getcwd()\n",
    "data_path = \"data/Garbage classification/\"\n",
    "data_dir = os.listdir(data_path)\n",
    "\n",
    "imgs = []\n",
    "labels = []\n",
    "for label in data_dir:\n",
    "    if label in [\"cardboard\", \"glass\", \"metal\"]:\n",
    "        continue\n",
    "\n",
    "    for img_path in os.listdir(os.path.join(root, data_path, label)):\n",
    "        img = cv2.imread(os.path.join(data_path, label, img_path))\n",
    "        resized = cv2.resize(img, (256, 256))\n",
    "        imgs.append(resized)\n",
    "        labels.append(label)"
   ]
  },
  {
   "cell_type": "code",
   "execution_count": 121,
   "metadata": {},
   "outputs": [
    {
     "name": "stdout",
     "output_type": "stream",
     "text": [
      "True\n",
      "True\n"
     ]
    }
   ],
   "source": [
    "print(all([img.shape == imgs[0].shape for img in imgs]))\n",
    "print(len(imgs) == len(labels))"
   ]
  },
  {
   "cell_type": "code",
   "execution_count": 122,
   "metadata": {},
   "outputs": [],
   "source": [
    "from sklearn.model_selection import train_test_split\n",
    "from sklearn.preprocessing import LabelEncoder\n",
    "from keras.utils import to_categorical\n",
    "\n",
    "# Split into train and test\n",
    "X_train, X_test, y_train, y_test = train_test_split(imgs, labels, test_size = 0.3, random_state = 242)\n",
    "\n",
    "# Save images into train and test\n",
    "if not os.path.isdir(\"test_imgs\"):\n",
    "    os.mkdir(\"test_imgs\")\n",
    "\n",
    "count = 0\n",
    "for label, img in zip(y_test, X_test):\n",
    "    cv2.imwrite(f\"test_imgs/{label}_{count}.jpg\", img)\n",
    "    count += 1\n",
    "\n",
    "# Normalize images\n",
    "X_train = np.asarray(X_train) / 255\n",
    "X_test = np.asarray(X_test) / 255\n",
    "\n",
    "# Label encode target\n",
    "encoder = LabelEncoder()\n",
    "y_train = encoder.fit_transform(y_train)\n",
    "y_test = encoder.transform(y_test)"
   ]
  },
  {
   "cell_type": "code",
   "execution_count": 123,
   "metadata": {},
   "outputs": [
    {
     "data": {
      "image/png": "[encoded data removed]",
      "text/plain": [
       "<Figure size 864x576 with 2 Axes>"
      ]
     },
     "metadata": {},
     "output_type": "display_data"
    }
   ],
   "source": [
    "train_classes, train_class_counts = np.unique(y_train, return_counts = True) \n",
    "test_classes, test_class_counts = np.unique(y_test, return_counts = True)\n",
    "\n",
    "fig, axs = plt.subplots(nrows = 1, ncols = 2, figsize = (12, 8))\n",
    "axs[0].pie(train_class_counts, labels = encoder.classes_)\n",
    "axs[0].set_title(\"Train Labels\")\n",
    "\n",
    "axs[1].pie(test_class_counts, labels = encoder.classes_)\n",
    "axs[1].set_title(\"Test Labels\")\n",
    "plt.gcf().set_facecolor(\"white\")\n",
    "plt.show()"
   ]
  },
  {
   "cell_type": "code",
   "execution_count": 124,
   "metadata": {},
   "outputs": [],
   "source": [
    "# Onehot encode target\n",
    "y_train = to_categorical(y_train)\n",
    "y_test = to_categorical(y_test)"
   ]
  },
  {
   "cell_type": "code",
   "execution_count": 131,
   "metadata": {},
   "outputs": [
    {
     "name": "stdout",
     "output_type": "stream",
     "text": [
      "The autoreload extension is already loaded. To reload it, use:\n",
      "  %reload_ext autoreload\n",
      "Model: \"sequential_17\"\n",
      "_________________________________________________________________\n",
      " Layer (type)                Output Shape              Param #   \n",
      "=================================================================\n",
      " conv2d_25 (Conv2D)          (None, 256, 256, 16)      208       \n",
      "                                                                 \n",
      " max_pooling2d (MaxPooling2D  (None, 128, 128, 16)     0         \n",
      " )                                                               \n",
      "                                                                 \n",
      " conv2d_26 (Conv2D)          (None, 128, 128, 8)       520       \n",
      "                                                                 \n",
      " max_pooling2d_1 (MaxPooling  (None, 64, 64, 8)        0         \n",
      " 2D)                                                             \n",
      "                                                                 \n",
      " flatten_17 (Flatten)        (None, 32768)             0         \n",
      "                                                                 \n",
      " dense_42 (Dense)            (None, 32)                1048608   \n",
      "                                                                 \n",
      " dense_43 (Dense)            (None, 32)                1056      \n",
      "                                                                 \n",
      " dense_44 (Dense)            (None, 3)                 99        \n",
      "                                                                 \n",
      "=================================================================\n",
      "Total params: 1,050,491\n",
      "Trainable params: 1,050,491\n",
      "Non-trainable params: 0\n",
      "_________________________________________________________________\n"
     ]
    }
   ],
   "source": [
    "from cnn_model import cnn\n",
    "%load_ext autoreload\n",
    "%autoreload 2\n",
    "\n",
    "input_shape = X_train.shape[1: ]\n",
    "output_shape = y_train.shape[1]\n",
    "\n",
    "model = cnn(input_shape, output_shape)\n",
    "model.summary()"
   ]
  },
  {
   "cell_type": "code",
   "execution_count": 132,
   "metadata": {},
   "outputs": [
    {
     "name": "stdout",
     "output_type": "stream",
     "text": [
      "Epoch 1/50\n",
      "19/19 [==============================] - 30s 1s/step - loss: 7.6533 - Accuracy: 0.4091 - val_loss: 1.7240 - val_Accuracy: 0.5098\n",
      "Epoch 2/50\n",
      "19/19 [==============================] - 24s 1s/step - loss: 0.9921 - Accuracy: 0.5522 - val_loss: 0.9337 - val_Accuracy: 0.5294\n",
      "Epoch 3/50\n",
      "19/19 [==============================] - 24s 1s/step - loss: 0.7392 - Accuracy: 0.6364 - val_loss: 0.8021 - val_Accuracy: 0.5843\n",
      "Epoch 4/50\n",
      "19/19 [==============================] - 23s 1s/step - loss: 0.6897 - Accuracy: 0.6852 - val_loss: 0.7977 - val_Accuracy: 0.5765\n",
      "Epoch 5/50\n",
      "19/19 [==============================] - 23s 1s/step - loss: 0.6167 - Accuracy: 0.7037 - val_loss: 0.7321 - val_Accuracy: 0.7020\n",
      "Epoch 6/50\n",
      "19/19 [==============================] - 22s 1s/step - loss: 0.5490 - Accuracy: 0.7980 - val_loss: 0.7065 - val_Accuracy: 0.6706\n",
      "Epoch 7/50\n",
      "19/19 [==============================] - 23s 1s/step - loss: 0.4795 - Accuracy: 0.8333 - val_loss: 0.6728 - val_Accuracy: 0.7333\n",
      "Epoch 8/50\n",
      "19/19 [==============================] - 25s 1s/step - loss: 0.4047 - Accuracy: 0.8620 - val_loss: 0.6765 - val_Accuracy: 0.7412\n",
      "Epoch 9/50\n",
      "19/19 [==============================] - 25s 1s/step - loss: 0.3453 - Accuracy: 0.8872 - val_loss: 0.6024 - val_Accuracy: 0.7490\n",
      "Epoch 10/50\n",
      "19/19 [==============================] - 24s 1s/step - loss: 0.2946 - Accuracy: 0.9125 - val_loss: 0.6333 - val_Accuracy: 0.7608\n",
      "Epoch 11/50\n",
      "19/19 [==============================] - 23s 1s/step - loss: 0.2734 - Accuracy: 0.9091 - val_loss: 0.7118 - val_Accuracy: 0.7373\n",
      "Epoch 12/50\n",
      "19/19 [==============================] - 23s 1s/step - loss: 0.2522 - Accuracy: 0.9192 - val_loss: 0.6237 - val_Accuracy: 0.7529\n",
      "Epoch 13/50\n",
      "19/19 [==============================] - 23s 1s/step - loss: 0.1779 - Accuracy: 0.9512 - val_loss: 0.7398 - val_Accuracy: 0.7098\n",
      "Epoch 14/50\n",
      "19/19 [==============================] - 23s 1s/step - loss: 0.1819 - Accuracy: 0.9529 - val_loss: 0.7458 - val_Accuracy: 0.7255\n",
      "Epoch 15/50\n",
      "19/19 [==============================] - 23s 1s/step - loss: 0.1448 - Accuracy: 0.9663 - val_loss: 0.7758 - val_Accuracy: 0.7137\n",
      "Epoch 16/50\n",
      "19/19 [==============================] - 23s 1s/step - loss: 0.1514 - Accuracy: 0.9579 - val_loss: 0.7464 - val_Accuracy: 0.7412\n",
      "Epoch 17/50\n",
      "19/19 [==============================] - 22s 1s/step - loss: 0.1207 - Accuracy: 0.9714 - val_loss: 0.7723 - val_Accuracy: 0.7451\n",
      "Epoch 18/50\n",
      "19/19 [==============================] - 21s 1s/step - loss: 0.1171 - Accuracy: 0.9613 - val_loss: 0.7738 - val_Accuracy: 0.7529\n",
      "Epoch 19/50\n",
      "19/19 [==============================] - 21s 1s/step - loss: 0.1076 - Accuracy: 0.9781 - val_loss: 0.8439 - val_Accuracy: 0.7529\n",
      "Epoch 20/50\n",
      "19/19 [==============================] - 21s 1s/step - loss: 0.0737 - Accuracy: 0.9832 - val_loss: 0.8491 - val_Accuracy: 0.7490\n",
      "Epoch 21/50\n",
      "19/19 [==============================] - 22s 1s/step - loss: 0.1172 - Accuracy: 0.9663 - val_loss: 0.7775 - val_Accuracy: 0.7294\n",
      "Epoch 22/50\n",
      "19/19 [==============================] - 23s 1s/step - loss: 0.0975 - Accuracy: 0.9815 - val_loss: 0.7027 - val_Accuracy: 0.7882\n",
      "Epoch 23/50\n",
      "19/19 [==============================] - 23s 1s/step - loss: 0.0609 - Accuracy: 0.9899 - val_loss: 0.7904 - val_Accuracy: 0.7725\n",
      "Epoch 24/50\n",
      "19/19 [==============================] - 23s 1s/step - loss: 0.0478 - Accuracy: 0.9933 - val_loss: 0.8240 - val_Accuracy: 0.7686\n",
      "Epoch 25/50\n",
      "19/19 [==============================] - 22s 1s/step - loss: 0.0399 - Accuracy: 0.9949 - val_loss: 0.8596 - val_Accuracy: 0.7686\n",
      "Epoch 26/50\n",
      "19/19 [==============================] - 22s 1s/step - loss: 0.0346 - Accuracy: 0.9966 - val_loss: 0.9583 - val_Accuracy: 0.7451\n",
      "Epoch 27/50\n",
      "19/19 [==============================] - 21s 1s/step - loss: 0.0335 - Accuracy: 0.9933 - val_loss: 1.0542 - val_Accuracy: 0.7451\n",
      "Epoch 28/50\n",
      "19/19 [==============================] - 23s 1s/step - loss: 0.0403 - Accuracy: 0.9949 - val_loss: 1.0840 - val_Accuracy: 0.6980\n",
      "Epoch 29/50\n",
      "19/19 [==============================] - 22s 1s/step - loss: 0.0338 - Accuracy: 0.9949 - val_loss: 0.9651 - val_Accuracy: 0.7765\n",
      "Epoch 30/50\n",
      "19/19 [==============================] - 23s 1s/step - loss: 0.0253 - Accuracy: 0.9983 - val_loss: 1.0169 - val_Accuracy: 0.7569\n",
      "Epoch 31/50\n",
      "19/19 [==============================] - 23s 1s/step - loss: 0.0235 - Accuracy: 0.9966 - val_loss: 1.1629 - val_Accuracy: 0.7569\n",
      "Epoch 32/50\n",
      "19/19 [==============================] - 25s 1s/step - loss: 0.0276 - Accuracy: 0.9983 - val_loss: 1.2846 - val_Accuracy: 0.6824\n",
      "Epoch 33/50\n",
      "19/19 [==============================] - 25s 1s/step - loss: 0.0324 - Accuracy: 0.9966 - val_loss: 1.1063 - val_Accuracy: 0.7569\n",
      "Epoch 34/50\n",
      "19/19 [==============================] - 31s 2s/step - loss: 0.0181 - Accuracy: 0.9983 - val_loss: 1.0362 - val_Accuracy: 0.7569\n",
      "Epoch 35/50\n",
      "19/19 [==============================] - 32s 2s/step - loss: 0.0169 - Accuracy: 0.9983 - val_loss: 1.0901 - val_Accuracy: 0.7412\n",
      "Epoch 36/50\n",
      "19/19 [==============================] - 28s 1s/step - loss: 0.0163 - Accuracy: 0.9983 - val_loss: 1.1366 - val_Accuracy: 0.7529\n",
      "Epoch 37/50\n",
      "19/19 [==============================] - 33s 2s/step - loss: 0.0135 - Accuracy: 0.9983 - val_loss: 1.1354 - val_Accuracy: 0.7333\n",
      "Epoch 38/50\n",
      "19/19 [==============================] - 30s 2s/step - loss: 0.0140 - Accuracy: 0.9983 - val_loss: 1.0748 - val_Accuracy: 0.7804\n",
      "Epoch 39/50\n",
      "19/19 [==============================] - 35s 2s/step - loss: 0.0143 - Accuracy: 0.9983 - val_loss: 1.2346 - val_Accuracy: 0.7451\n",
      "Epoch 40/50\n",
      "19/19 [==============================] - 40s 2s/step - loss: 0.0100 - Accuracy: 0.9983 - val_loss: 1.3434 - val_Accuracy: 0.7490\n",
      "Epoch 41/50\n",
      "19/19 [==============================] - 29s 2s/step - loss: 0.0101 - Accuracy: 1.0000 - val_loss: 1.1572 - val_Accuracy: 0.7529\n",
      "Epoch 42/50\n",
      "19/19 [==============================] - 29s 2s/step - loss: 0.0087 - Accuracy: 0.9983 - val_loss: 1.2096 - val_Accuracy: 0.7451\n",
      "Epoch 43/50\n",
      "19/19 [==============================] - 27s 1s/step - loss: 0.0070 - Accuracy: 1.0000 - val_loss: 1.2197 - val_Accuracy: 0.7569\n",
      "Epoch 44/50\n",
      "19/19 [==============================] - 25s 1s/step - loss: 0.0071 - Accuracy: 1.0000 - val_loss: 1.2335 - val_Accuracy: 0.7490\n",
      "Epoch 45/50\n",
      "19/19 [==============================] - 25s 1s/step - loss: 0.0085 - Accuracy: 1.0000 - val_loss: 1.2385 - val_Accuracy: 0.7490\n",
      "Epoch 46/50\n",
      "19/19 [==============================] - 29s 2s/step - loss: 0.0071 - Accuracy: 1.0000 - val_loss: 1.2432 - val_Accuracy: 0.7569\n",
      "Epoch 47/50\n",
      "19/19 [==============================] - 27s 1s/step - loss: 0.0067 - Accuracy: 1.0000 - val_loss: 1.3008 - val_Accuracy: 0.7569\n",
      "Epoch 48/50\n",
      "19/19 [==============================] - 28s 2s/step - loss: 0.0053 - Accuracy: 1.0000 - val_loss: 1.3973 - val_Accuracy: 0.7569\n",
      "Epoch 49/50\n",
      "19/19 [==============================] - 26s 1s/step - loss: 0.0054 - Accuracy: 1.0000 - val_loss: 1.2827 - val_Accuracy: 0.7451\n",
      "Epoch 50/50\n",
      "19/19 [==============================] - 24s 1s/step - loss: 0.0044 - Accuracy: 1.0000 - val_loss: 1.2904 - val_Accuracy: 0.7490\n"
     ]
    }
   ],
   "source": [
    "history = model.fit(X_train, y_train, validation_split = 0.3, epochs = 50)\n",
    "model.save_weights(\"model_weights.h5\")"
   ]
  },
  {
   "cell_type": "code",
   "execution_count": 133,
   "metadata": {},
   "outputs": [
    {
     "name": "stdout",
     "output_type": "stream",
     "text": [
      "12/12 [==============================] - 5s 356ms/step\n"
     ]
    },
    {
     "data": {
      "image/png": "[encoded data removed]",
      "text/plain": [
       "<Figure size 864x576 with 2 Axes>"
      ]
     },
     "metadata": {
      "needs_background": "light"
     },
     "output_type": "display_data"
    }
   ],
   "source": [
    "from sklearn.metrics import confusion_matrix, precision_score, accuracy_score\n",
    "import seaborn as sns\n",
    "import matplotlib.pyplot as plt\n",
    "\n",
    "y_prob = model.predict(X_test)\n",
    "y_pred = np.argmax(y_prob, axis = 1)\n",
    "y_true = np.argmax(y_test, axis = 1)\n",
    "\n",
    "prec = precision_score(y_true, y_pred, average = \"macro\")\n",
    "accr = accuracy_score(y_true, y_pred)\n",
    "\n",
    "cnfm = confusion_matrix(y_true, y_pred)\n",
    "plt.figure(figsize = (12, 8))\n",
    "plt.title(f\"Accuracy: {accr:.3f}, Precision: {prec:.3f}\")\n",
    "sns.heatmap(\n",
    "    cnfm, cmap = \"Blues\",\n",
    "    annot = True, fmt = \".0f\",\n",
    "    xticklabels = encoder.classes_,\n",
    "    yticklabels = encoder.classes_\n",
    ")\n",
    "plt.show()"
   ]
  },
  {
   "cell_type": "code",
   "execution_count": 134,
   "metadata": {},
   "outputs": [
    {
     "data": {
      "image/png": "[encoded data removed]",
      "text/plain": [
       "<Figure size 864x576 with 1 Axes>"
      ]
     },
     "metadata": {
      "needs_background": "light"
     },
     "output_type": "display_data"
    }
   ],
   "source": [
    "plt.figure(figsize = (12, 8))\n",
    "plt.plot(history.history[\"loss\"], label = \"train\")\n",
    "plt.plot(history.history[\"val_loss\"], label = \"val\")\n",
    "plt.legend()\n",
    "plt.show()"
   ]
  },
  {
   "cell_type": "code",
   "execution_count": 141,
   "metadata": {},
   "outputs": [
    {
     "name": "stdout",
     "output_type": "stream",
     "text": [
      "1/1 [==============================] - 0s 141ms/step\n"
     ]
    },
    {
     "data": {
      "text/plain": [
       "array([[0.95748186, 0.9471174 , 0.01679762]], dtype=float32)"
      ]
     },
     "execution_count": 141,
     "metadata": {},
     "output_type": "execute_result"
    }
   ],
   "source": [
    "chosen = X_test[0]\n",
    "\n",
    "model.predict(np.asarray([chosen]))"
   ]
  }
 ],
 "metadata": {
  "kernelspec": {
   "display_name": "Python 3",
   "language": "python",
   "name": "python3"
  },
  "language_info": {
   "codemirror_mode": {
    "name": "ipython",
    "version": 3
   },
   "file_extension": ".py",
   "mimetype": "text/x-python",
   "name": "python",
   "nbconvert_exporter": "python",
   "pygments_lexer": "ipython3",
   "version": "3.10.0"
  },
  "orig_nbformat": 4
 },
 "nbformat": 4,
 "nbformat_minor": 2
}
